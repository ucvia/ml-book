{
  "cells": [
    {
      "cell_type": "markdown",
      "metadata": {
        "id": "7LBQJuj1wvn4"
      },
      "source": [
        "<div><center><img src=\"https://ml.ucv.ai/logo.png\\\" width=150\"/> </center></div>\n",
        "\n",
        "# 00 Preliminares de Álgebra Lineal\n",
        "\n",
        "Resumen mínimo de álgebra lineal para el curso\n",
        "\n",
        "## Versión v.3\n",
        "El notebook lo puedo modificar, esta versión es la v.1 a 06/11/2024 a 9 am de Caracas.\n",
        "\n",
        "- **Autor:** Fernando Crema García\n",
        "- **Contacto:** fernando.cremagarcia@kuleuven.be; fernando.cremagarcia@esat.kuleuven.be"
      ]
    },
    {
      "cell_type": "markdown",
      "metadata": {
        "id": "EE1PgqNpG_EB"
      },
      "source": [
        "## Aprendizaje automático"
      ]
    },
    {
      "cell_type": "markdown",
      "metadata": {
        "id": "MRkknd5HWkl2"
      },
      "source": [
        "### Objetivo principal (por ahora) de ML\n",
        "\n",
        "El caso simple es asumir que buscamos predecir un valor en base a conocimiento del pasado.\n",
        "\n",
        "Encontrar una función, denotada como $f$, que mapee los datos de entrada $X$ a las etiquetas de salida $Y$.\n",
        "\n",
        "$$\n",
        "    Y = f(x) \\text{ para } x \\in X\n",
        "$$\n",
        "\n",
        "\n",
        "\n",
        "o de igual forma\n",
        "\n",
        "$$\n",
        "    f: X \\rightarrow Y\n",
        "$$\n",
        "    \n",
        "Donde:\n",
        "\n",
        "1. $X$ representa los datos de entrada.\n",
        "1. $Y$ son las etiquetas de salida o las respuestas deseadas.\n",
        "1. $f(\\cdot)$ es la función que el modelo de aprendizaje supervisado busca \"aprender\"."
      ]
    },
    {
      "cell_type": "markdown",
      "metadata": {
        "id": "DJ3Nal8xxFhF"
      },
      "source": [
        "## 3. Vectores\n",
        "\n",
        "Con $x \\in \\mathbb{R}^{n}$, denotamos un vector de $n$ entradas. En nuestro curso, asumimos que un vector es columna.\n",
        "\n",
        "$$\n",
        "x=\\left[\\begin{array}{c}\n",
        "x_{1} \\\\\n",
        "x_{2} \\\\\n",
        "\\vdots \\\\\n",
        "x_{n}\n",
        "\\end{array}\\right]\n",
        "$$"
      ]
    },
    {
      "cell_type": "markdown",
      "metadata": {
        "id": "A8nNmR7JyTcD"
      },
      "source": [
        "### 3.1 Ejemplo con numpy"
      ]
    },
    {
      "cell_type": "code",
      "execution_count": null,
      "metadata": {
        "id": "axqX7AzUsx9m"
      },
      "outputs": [],
      "source": [
        "a = [1, 2, 3]"
      ]
    },
    {
      "cell_type": "code",
      "execution_count": null,
      "metadata": {
        "colab": {
          "base_uri": "https://localhost:8080/"
        },
        "id": "UmY9Dtd5sz6x",
        "outputId": "f2306dd1-3303-43d5-b448-d78ae7379933"
      },
      "outputs": [
        {
          "output_type": "execute_result",
          "data": {
            "text/plain": [
              "list"
            ]
          },
          "metadata": {},
          "execution_count": 28
        }
      ],
      "source": [
        "type(a)"
      ]
    },
    {
      "cell_type": "code",
      "execution_count": null,
      "metadata": {
        "id": "pHKpLmD9wtRV"
      },
      "outputs": [],
      "source": [
        "import numpy as np # scipy, Dataframes -> Pandas, Polars\n",
        "\n",
        "# Definición de vector\n",
        "v = np.array([1, 2, 3])"
      ]
    },
    {
      "cell_type": "code",
      "source": [
        "?np.array"
      ],
      "metadata": {
        "id": "_Ykms-DtngEn"
      },
      "execution_count": null,
      "outputs": []
    },
    {
      "cell_type": "markdown",
      "metadata": {
        "id": "ZBnDDdTItT3w"
      },
      "source": [
        "Names (objectos)"
      ]
    },
    {
      "cell_type": "code",
      "execution_count": null,
      "metadata": {
        "id": "H9PHiCxrtHOr"
      },
      "outputs": [],
      "source": [
        "v2 = np.array(a)"
      ]
    },
    {
      "cell_type": "code",
      "execution_count": null,
      "metadata": {
        "colab": {
          "base_uri": "https://localhost:8080/"
        },
        "id": "nfrGxowDyBrU",
        "outputId": "275a0ace-dda8-4db5-eec2-e8bbddfbeeed"
      },
      "outputs": [
        {
          "data": {
            "text/plain": [
              "array([1, 2, 3])"
            ]
          },
          "execution_count": 6,
          "metadata": {},
          "output_type": "execute_result"
        }
      ],
      "source": [
        "v"
      ]
    },
    {
      "cell_type": "code",
      "execution_count": null,
      "metadata": {
        "colab": {
          "base_uri": "https://localhost:8080/"
        },
        "id": "60w1WqlwyCpF",
        "outputId": "bf9a5b7f-d38e-4a51-db90-f396f556a607"
      },
      "outputs": [
        {
          "output_type": "execute_result",
          "data": {
            "text/plain": [
              "(3,)"
            ]
          },
          "metadata": {},
          "execution_count": 32
        }
      ],
      "source": [
        "v.shape"
      ]
    },
    {
      "cell_type": "code",
      "execution_count": null,
      "metadata": {
        "colab": {
          "base_uri": "https://localhost:8080/"
        },
        "id": "nHj64gHFtonS",
        "outputId": "ebc8e4db-d986-47f4-87c0-9b02bd695894"
      },
      "outputs": [
        {
          "output_type": "execute_result",
          "data": {
            "text/plain": [
              "array([[1, 2, 3]])"
            ]
          },
          "metadata": {},
          "execution_count": 33
        }
      ],
      "source": [
        "v.reshape((1, 3))"
      ]
    },
    {
      "cell_type": "code",
      "execution_count": null,
      "metadata": {
        "id": "3ntzLsbPyFJO"
      },
      "outputs": [],
      "source": [
        "v2 = np.array([[1], [2], [3]])"
      ]
    },
    {
      "cell_type": "code",
      "execution_count": null,
      "metadata": {
        "colab": {
          "base_uri": "https://localhost:8080/"
        },
        "id": "D1e-egsUyZHJ",
        "outputId": "1861fc05-1693-4321-9a4d-550eba9d93d6"
      },
      "outputs": [
        {
          "data": {
            "text/plain": [
              "array([[1],\n",
              "       [2],\n",
              "       [3]])"
            ]
          },
          "execution_count": 7,
          "metadata": {},
          "output_type": "execute_result"
        }
      ],
      "source": [
        "v2"
      ]
    },
    {
      "cell_type": "code",
      "execution_count": null,
      "metadata": {
        "colab": {
          "base_uri": "https://localhost:8080/"
        },
        "id": "epUjm3TLybco",
        "outputId": "39387903-45ee-4018-b298-ac3cacfe20ff"
      },
      "outputs": [
        {
          "data": {
            "text/plain": [
              "(3, 1)"
            ]
          },
          "execution_count": 9,
          "metadata": {},
          "output_type": "execute_result"
        }
      ],
      "source": [
        "v2.shape"
      ]
    },
    {
      "cell_type": "code",
      "execution_count": null,
      "metadata": {
        "colab": {
          "base_uri": "https://localhost:8080/"
        },
        "id": "duUEtvym0BsS",
        "outputId": "94cba2e9-2057-4c31-c529-cc9b90a9bb6a"
      },
      "outputs": [
        {
          "name": "stdout",
          "output_type": "stream",
          "text": [
            "Dot Product: [14]\n"
          ]
        }
      ],
      "source": [
        "# Dot product of vectors\n",
        "dot_product = np.dot(v, v2)\n",
        "print(\"Dot Product:\", dot_product)"
      ]
    },
    {
      "cell_type": "markdown",
      "metadata": {
        "id": "eqPswXowyvOe"
      },
      "source": [
        "### 3.2 Operaciones básicas"
      ]
    },
    {
      "cell_type": "markdown",
      "metadata": {
        "id": "P5rNeu-vyx4p"
      },
      "source": [
        "#### 3.2.1 Suma\n",
        "\n",
        "La suma de dos vectores $x$ y $y$ se define como:\n",
        "\n",
        "$$\n",
        "x + y = \\left[\\begin{array}{c}\n",
        "x_{1} \\\\\n",
        "x_{2} \\\\\n",
        "\\vdots \\\\\n",
        "x_{n}\n",
        "\\end{array}\\right]\n",
        "+\n",
        "\\left[\\begin{array}{c}\n",
        "y_{1} \\\\\n",
        "y_{2} \\\\\n",
        "\\vdots \\\\\n",
        "y_{n}\n",
        "\\end{array}\\right]\n",
        "=\n",
        "\\left[\\begin{array}{c}\n",
        "x_{1} + y_{1} \\\\\n",
        "x_{2} + y_{2} \\\\\n",
        "\\vdots \\\\\n",
        "x_{n} + y_{n}\n",
        "\\end{array}\\right]\n",
        "$$\n",
        "\n",
        "Donde $x_i$ y $y_i$ son las entradas respectivas de los vectores."
      ]
    },
    {
      "cell_type": "code",
      "execution_count": null,
      "metadata": {
        "colab": {
          "base_uri": "https://localhost:8080/"
        },
        "id": "UdYhCyI91cRO",
        "outputId": "fe6616ac-8ca0-49f5-82d2-faa2db3c1ff1"
      },
      "outputs": [
        {
          "output_type": "stream",
          "name": "stdout",
          "text": [
            "Suma/: [5 7 9]\n"
          ]
        }
      ],
      "source": [
        "import numpy as np\n",
        "\n",
        "\n",
        "# Definir dos vectores\n",
        "v1 = np.array([1, 2, 3])\n",
        "v2 = np.array([4, 5, 6])\n",
        "\n",
        "# Suma\n",
        "suma = np.sum([v1, v2], axis=0)\n",
        "\n",
        "print(\"Suma/:\", suma)\n"
      ]
    },
    {
      "cell_type": "code",
      "source": [
        "from numpy import array\n",
        "from numpy import  sum as suma_ml\n",
        "# Definir dos vectores\n",
        "v1 = array([1, 2, 3])\n",
        "v2 = array([4, 5, 6])\n",
        "\n",
        "# Suma\n",
        "suma = np.sum([v1, v2], axis=0)\n",
        "\n",
        "print(\"Suma/:\", suma)"
      ],
      "metadata": {
        "colab": {
          "base_uri": "https://localhost:8080/"
        },
        "id": "K7ndg48wp4u8",
        "outputId": "3c76fe91-0d35-4f62-e17f-871ba8be526d"
      },
      "execution_count": null,
      "outputs": [
        {
          "output_type": "stream",
          "name": "stdout",
          "text": [
            "Suma/: [5 7 9]\n"
          ]
        }
      ]
    },
    {
      "cell_type": "code",
      "execution_count": null,
      "metadata": {
        "colab": {
          "base_uri": "https://localhost:8080/"
        },
        "id": "pecOhP_dviQ7",
        "outputId": "a9eb5225-d0f7-4f0f-9156-ad1d28b2df00"
      },
      "outputs": [
        {
          "output_type": "execute_result",
          "data": {
            "text/plain": [
              "array([ 6, 15])"
            ]
          },
          "metadata": {},
          "execution_count": 37
        }
      ],
      "source": [
        "suma = np.sum([v1, v2], axis=1)\n",
        "suma"
      ]
    },
    {
      "cell_type": "code",
      "execution_count": null,
      "metadata": {
        "colab": {
          "base_uri": "https://localhost:8080/"
        },
        "id": "RgHG3_bc15bx",
        "outputId": "42d00236-d70f-46d9-9413-f32324a1d15e"
      },
      "outputs": [
        {
          "data": {
            "text/plain": [
              "(3,)"
            ]
          },
          "execution_count": 23,
          "metadata": {},
          "output_type": "execute_result"
        }
      ],
      "source": [
        "\n",
        "suma.shape"
      ]
    },
    {
      "cell_type": "code",
      "execution_count": null,
      "metadata": {
        "id": "R0aY8ay81jXk"
      },
      "outputs": [],
      "source": [
        "?np.sum"
      ]
    },
    {
      "cell_type": "code",
      "execution_count": null,
      "metadata": {
        "colab": {
          "base_uri": "https://localhost:8080/"
        },
        "id": "_IeQgF3f1_CG",
        "outputId": "70d34d68-aad9-4a70-8ee8-bd539ce058b3"
      },
      "outputs": [
        {
          "name": "stdout",
          "output_type": "stream",
          "text": [
            "Suma/: [[5]\n",
            " [7]\n",
            " [9]]\n"
          ]
        }
      ],
      "source": [
        "v = np.array([[4], [5], [6]])\n",
        "v2 = np.array([[1], [2], [3]])\n",
        "\n",
        "# Suma\n",
        "suma = np.sum([v, v2], axis=0)\n",
        "\n",
        "print(\"Suma/:\", suma)"
      ]
    },
    {
      "cell_type": "code",
      "execution_count": null,
      "metadata": {
        "colab": {
          "base_uri": "https://localhost:8080/"
        },
        "id": "8EhxXPy12ZXw",
        "outputId": "6e0ce6b8-39de-427a-c75d-5727c052a7b4"
      },
      "outputs": [
        {
          "data": {
            "text/plain": [
              "(3, 1)"
            ]
          },
          "execution_count": 31,
          "metadata": {},
          "output_type": "execute_result"
        }
      ],
      "source": [
        "suma.shape"
      ]
    },
    {
      "cell_type": "markdown",
      "metadata": {
        "id": "C-JODvXX1tmf"
      },
      "source": [
        "#### 3.2.2 Sobrecarga de operadores\n",
        "\n",
        "La sobrecarga de operadores es un concepto de programación que permite definir el comportamiento de operadores como +, -, *, /, entre otros, para tipos de datos personalizados.\n"
      ]
    },
    {
      "cell_type": "code",
      "execution_count": null,
      "metadata": {
        "colab": {
          "base_uri": "https://localhost:8080/"
        },
        "id": "LcTPc32Fwabn",
        "outputId": "9735dc76-0be6-441f-ae46-cc6f0b5d1fdd"
      },
      "outputs": [
        {
          "output_type": "execute_result",
          "data": {
            "text/plain": [
              "3.0"
            ]
          },
          "metadata": {},
          "execution_count": 39
        }
      ],
      "source": [
        "1.0 + 2"
      ]
    },
    {
      "cell_type": "code",
      "execution_count": null,
      "metadata": {
        "colab": {
          "base_uri": "https://localhost:8080/",
          "height": 35
        },
        "id": "rTk8izsJwb9a",
        "outputId": "e2a048b0-05d2-4f90-97e4-c6bd984b3309"
      },
      "outputs": [
        {
          "data": {
            "application/vnd.google.colaboratory.intrinsic+json": {
              "type": "string"
            },
            "text/plain": [
              "'ab'"
            ]
          },
          "execution_count": 16,
          "metadata": {},
          "output_type": "execute_result"
        }
      ],
      "source": [
        "'a' + 'b'"
      ]
    },
    {
      "cell_type": "code",
      "execution_count": null,
      "metadata": {
        "colab": {
          "base_uri": "https://localhost:8080/"
        },
        "id": "vgQuv-BJ0z4S",
        "outputId": "338e9142-3bb6-44f0-dff8-8a4207ea740d"
      },
      "outputs": [
        {
          "name": "stdout",
          "output_type": "stream",
          "text": [
            "Suma/: [5 7 9]\n"
          ]
        }
      ],
      "source": [
        "import numpy as np\n",
        "\n",
        "# Definir dos vectores\n",
        "v1 = np.array([1, 2, 3])\n",
        "v2 = np.array([4, 5, 6])\n",
        "\n",
        "# Suma\n",
        "suma = v1 + v2 # por default hace axis=0, np.sum(object, axis=1)\n",
        "\n",
        "print(\"Suma/:\", suma)"
      ]
    },
    {
      "cell_type": "markdown",
      "metadata": {
        "id": "rOWbMGSS3GRm"
      },
      "source": [
        "#### 3.2.3 Resta\n",
        "\n",
        "La resta de dos vectores $x$ y $y$ se define como:\n",
        "\n",
        "$$\n",
        "x - y = \\left[\\begin{array}{c}\n",
        "x_{1} \\\\\n",
        "x_{2} \\\\\n",
        "\\vdots \\\\\n",
        "x_{n}\n",
        "\\end{array}\\right]\n",
        "-\n",
        "\\left[\\begin{array}{c}\n",
        "y_{1} \\\\\n",
        "y_{2} \\\\\n",
        "\\vdots \\\\\n",
        "y_{n}\n",
        "\\end{array}\\right]\n",
        "=\n",
        "\\left[\\begin{array}{c}\n",
        "x_{1} - y_{1} \\\\\n",
        "x_{2} - y_{2} \\\\\n",
        "\\vdots \\\\\n",
        "x_{n} - y_{n}\n",
        "\\end{array}\\right]\n",
        "$$\n",
        "\n",
        "Donde $x_i$ y $y_i$ son las entradas respectivas de los vectores."
      ]
    },
    {
      "cell_type": "code",
      "execution_count": null,
      "metadata": {
        "colab": {
          "base_uri": "https://localhost:8080/"
        },
        "id": "epviRfen3Suo",
        "outputId": "f05c21aa-c4be-4fde-a2ca-7616582c2f93"
      },
      "outputs": [
        {
          "data": {
            "text/plain": [
              "array([-3, -3, -3])"
            ]
          },
          "execution_count": 39,
          "metadata": {},
          "output_type": "execute_result"
        }
      ],
      "source": [
        "import numpy as np\n",
        "\n",
        "# Definir dos vectores\n",
        "v1 = np.array([1, 2, 3])\n",
        "v2 = np.array([4, 5, 6])\n",
        "\n",
        "v1 - v2"
      ]
    },
    {
      "cell_type": "markdown",
      "metadata": {
        "id": "xYQTmsqo3QKQ"
      },
      "source": [
        "Cómo hacemos en este caso?\n"
      ]
    },
    {
      "cell_type": "code",
      "execution_count": null,
      "metadata": {
        "colab": {
          "base_uri": "https://localhost:8080/"
        },
        "id": "XMQztQde3GXh",
        "outputId": "812d39d9-8ac8-4b7f-d0a8-b8bb18438f9c"
      },
      "outputs": [
        {
          "name": "stdout",
          "output_type": "stream",
          "text": [
            "Suma/: [5 7 9]\n"
          ]
        }
      ],
      "source": [
        "import numpy as np\n",
        "\n",
        "# Definir dos vectores\n",
        "v1 = np.array([1, 2, 3])\n",
        "v2 = np.array([4, 5, 6])\n",
        "\n",
        "# Suma\n",
        "resta = np.sum([v1, v2], axis=0)\n",
        "\n",
        "print(\"Resta/:\", resta)\n"
      ]
    },
    {
      "cell_type": "markdown",
      "metadata": {
        "id": "fiYwSDoR3jNd"
      },
      "source": [
        "#### 3.2.4 Multiplicación escalar\n",
        "\n",
        "La multiplicación escalar involucra un número $a \\in \\mathbb{R}$ y un vector  $x$ y se define como:\n",
        "\n",
        "$$\n",
        "a . y = a . \\left[\\begin{array}{c}\n",
        "x_{1} \\\\\n",
        "x_{2} \\\\\n",
        "\\vdots \\\\\n",
        "x_{n}\n",
        "\\end{array}\\right]\n",
        "=\n",
        "\\left[\\begin{array}{c}\n",
        "a . x_{1} \\\\\n",
        "a . x_{2} \\\\\n",
        "\\vdots \\\\\n",
        "a . x_{n}\n",
        "\\end{array}\\right]\n",
        "$$\n",
        "\n",
        "Donde $x_i$ son las entradas respectivas del vector x."
      ]
    },
    {
      "cell_type": "code",
      "execution_count": null,
      "metadata": {
        "colab": {
          "base_uri": "https://localhost:8080/"
        },
        "id": "myt0SYko3nAo",
        "outputId": "b2364683-1382-4972-e3d3-208b52f7ca6d"
      },
      "outputs": [
        {
          "name": "stdout",
          "output_type": "stream",
          "text": [
            "Scalar Multiplication: [2 4 6]\n"
          ]
        }
      ],
      "source": [
        "# Multiplicación escalar\n",
        "scalar = 2\n",
        "v1 = np.array([1, 2, 3])\n",
        "scaled_vector = scalar * v1\n",
        "print(\"Scalar Multiplication:\", scaled_vector)"
      ]
    },
    {
      "cell_type": "markdown",
      "metadata": {
        "id": "IOQ1ltMH4Mih"
      },
      "source": [
        "#### 3.2.5 Volvemos a la resta"
      ]
    },
    {
      "cell_type": "code",
      "execution_count": null,
      "metadata": {
        "colab": {
          "base_uri": "https://localhost:8080/"
        },
        "id": "EThe2npe4Os-",
        "outputId": "ae6f42dc-fad2-4377-9461-a0ad3027ffcd"
      },
      "outputs": [
        {
          "name": "stdout",
          "output_type": "stream",
          "text": [
            "Suma/: [-3 -3 -3]\n"
          ]
        }
      ],
      "source": [
        "import numpy as np\n",
        "\n",
        "# Definir dos vectores\n",
        "v1 = np.array([1, 2, 3])\n",
        "v2 = np.array([4, 5, 6])\n",
        "\n",
        "# Suma\n",
        "suma = np.sum([v1, -v2], axis=0)\n",
        "\n",
        "print(\"Suma/:\", suma)"
      ]
    },
    {
      "cell_type": "markdown",
      "metadata": {
        "id": "O-bFldsJ2jAX"
      },
      "source": [
        "#### 3.2.6 **[Extra]:** Transformar de (3, 1) a (3,) con Flatten"
      ]
    },
    {
      "cell_type": "code",
      "execution_count": null,
      "metadata": {
        "colab": {
          "base_uri": "https://localhost:8080/"
        },
        "id": "R021_JVu2M_a",
        "outputId": "5659686f-c76c-484d-ac3c-d9ade408ad0e"
      },
      "outputs": [
        {
          "name": "stdout",
          "output_type": "stream",
          "text": [
            "Suma/: [5 7 9]\n"
          ]
        }
      ],
      "source": [
        "v = np.array([[4], [5], [6]])\n",
        "v2 = np.array([[1], [2], [3]])\n",
        "\n",
        "# Suma\n",
        "suma = np.sum([v.flatten(), v2.flatten()], axis=0)\n",
        "\n",
        "print(\"Suma/:\", suma)"
      ]
    },
    {
      "cell_type": "markdown",
      "metadata": {
        "id": "TgfRtGdf4f56"
      },
      "source": [
        "### 3.3 Propiedades de la Suma y Resta de Vectores\n",
        "\n",
        "1. **Conmutatividad:**\n",
        "   - Suma:  $$\\mathbf{x} + \\mathbf{y} = \\mathbf{x} + \\mathbf{y}$$\n",
        "   - Resta: $$ \\mathbf{x} - \\mathbf{y} \\neq \\mathbf{y} - \\mathbf{x} $$\n",
        "\n",
        "2. **Asociatividad:**\n",
        "   - Suma: $$ (\\mathbf{x} + \\mathbf{y}) + \\mathbf{w} = \\mathbf{x} + (\\mathbf{y} + \\mathbf{w}) $$\n",
        "   - Resta: $$ (\\mathbf{x} - \\mathbf{y}) - \\mathbf{w} \\neq \\mathbf{x} - (\\mathbf{y} - \\mathbf{w}) $$\n",
        "\n",
        "3. **Elemento neutro:**\n",
        "   - Suma: Existe un vector $$ \\mathbf{0} $$ tal que $$ \\mathbf{x} + \\mathbf{0} = \\mathbf{x} $$\n",
        "   - Resta: No existe un elemento neutro en la resta de vectores.\n",
        "\n",
        "4. **Inverso aditivo:**\n",
        "   - Suma: Para cada vector $$ \\mathbf{x} $$ existe un vector $$ -\\mathbf{x} $$ tal que $$ \\mathbf{x} + (-\\mathbf{x}) = \\mathbf{0} $$\n",
        "   - Resta: No tiene inverso aditivo definido.\n",
        "\n",
        "5. **Distributividad:**\n",
        "   - Distribución de la suma sobre la suma: $$ \\mathbf{x} (\\mathbf{y} + \\mathbf{w}) = \\mathbf{x} \\mathbf{y} + \\mathbf{x} \\mathbf{w} $$\n",
        "   - Distribución de la suma sobre la resta: $$ \\mathbf{x} (\\mathbf{y} - \\mathbf{w}) = \\mathbf{x} \\mathbf{y} - \\mathbf{x} \\mathbf{w} $$"
      ]
    },
    {
      "cell_type": "markdown",
      "metadata": {
        "id": "aG_jzYgrzhui"
      },
      "source": [
        "### 3.4 Multiplicación (producto Hadamard)\n",
        "\n",
        "El producto hadamard de dos vectores $x$ y $y$ lo definimos como:\n",
        "\n",
        "$$\n",
        "x \\odot y =  \\left[\\begin{array}{c}\n",
        "x_{1} \\\\\n",
        "x_{2} \\\\\n",
        "\\vdots \\\\\n",
        "x_{n}\n",
        "\\end{array}\\right]\n",
        "\\odot\n",
        "\\left[\\begin{array}{c}\n",
        "y_{1} \\\\\n",
        "y_{2} \\\\\n",
        "\\vdots \\\\\n",
        "y_{n}\n",
        "\\end{array}\\right]\n",
        "=\n",
        "\\left[\\begin{array}{c}\n",
        "x_{1} . y_{1} \\\\\n",
        "x_{2} . y_{2} \\\\\n",
        "\\vdots \\\\\n",
        "x_{n} . y_{n}\n",
        "\\end{array}\\right]\n",
        "$$\n",
        "\n",
        "Donde:\n",
        "\n",
        "- $x$ es un vector columna de dimensiones $n \\times 1$.\n",
        "- $y$ es un vector columna de dimensiones $n \\times 1$."
      ]
    },
    {
      "cell_type": "code",
      "execution_count": null,
      "metadata": {
        "colab": {
          "base_uri": "https://localhost:8080/"
        },
        "id": "ClVuBbVx0gj7",
        "outputId": "cf24609f-cd95-47af-cdad-4982d402527d"
      },
      "outputs": [
        {
          "name": "stdout",
          "output_type": "stream",
          "text": [
            "Producto de Hadamard: [ 4 10 18]\n"
          ]
        }
      ],
      "source": [
        "import numpy as np\n",
        "\n",
        "# Definir dos vectores\n",
        "v1 = np.array([1, 2, 3])\n",
        "v2 = np.array([4, 5, 6])\n",
        "\n",
        "# Producto de Hadamard (Podemos usar *)\n",
        "hadamard_product = np.multiply(v1, v2)\n",
        "\n",
        "print(\"Producto de Hadamard:\", hadamard_product)"
      ]
    },
    {
      "cell_type": "code",
      "execution_count": null,
      "metadata": {
        "colab": {
          "base_uri": "https://localhost:8080/"
        },
        "id": "PPgCH4Ap22Y2",
        "outputId": "0dcb6915-1be4-4892-8f07-b27471528087"
      },
      "outputs": [
        {
          "data": {
            "text/plain": [
              "array([ 4, 10, 18])"
            ]
          },
          "execution_count": 36,
          "metadata": {},
          "output_type": "execute_result"
        }
      ],
      "source": [
        "v1*v2"
      ]
    },
    {
      "cell_type": "markdown",
      "metadata": {
        "id": "JDey4K0MxiDp"
      },
      "source": [
        "## 4.  Matrices\n",
        "\n",
        "Por $A \\in \\mathbb{R}^{m \\times n}$ denotamos una matriz con $m$ filas y $n$ columnas, donde las entradas de $A$ son números reales.\n",
        "\n",
        "$$\n",
        "A=\\left[\\begin{array}{cccc}\n",
        "a_{11} & a_{12} & \\cdots & a_{1 n} \\\\\n",
        "a_{21} & a_{22} & \\cdots & a_{2 n} \\\\\n",
        "\\vdots & \\vdots & \\ddots & \\vdots \\\\\n",
        "a_{m 1} & a_{m 2} & \\cdots & a_{m n}\n",
        "\\end{array}\\right]=\\left[\\begin{array}{cccc}\n",
        "\\mid & \\mid & & \\mid \\\\\n",
        "a^{1} & a^{2} & \\cdots & a^{n} \\\\\n",
        "\\mid & \\mid & & \\mid\n",
        "\\end{array}\\right]=\\left[\\begin{array}{ccc}\n",
        "- & a_{1}^{T} & - \\\\\n",
        "- & a_{2}^{T} & - \\\\\n",
        "& \\vdots \\\\\n",
        "- & a_{m}^{T} & -\n",
        "\\end{array}\\right]\n",
        "$$"
      ]
    },
    {
      "cell_type": "code",
      "execution_count": null,
      "metadata": {
        "colab": {
          "base_uri": "https://localhost:8080/"
        },
        "id": "oxQees8ld-SZ",
        "outputId": "115f979a-ce7a-4812-a7cc-21b6ef569835"
      },
      "outputs": [
        {
          "data": {
            "text/plain": [
              "matrix([[1, 2],\n",
              "        [3, 4]])"
            ]
          },
          "execution_count": 50,
          "metadata": {},
          "output_type": "execute_result"
        }
      ],
      "source": [
        "A = np.matrix('1 2; 3 4')\n",
        "A\n"
      ]
    },
    {
      "cell_type": "code",
      "execution_count": null,
      "metadata": {
        "id": "Bgursz4kzKNm"
      },
      "outputs": [],
      "source": []
    },
    {
      "cell_type": "code",
      "execution_count": null,
      "metadata": {
        "colab": {
          "base_uri": "https://localhost:8080/"
        },
        "id": "V0vdhEkIeJTZ",
        "outputId": "60b45e1f-b9f2-4fc1-ad1f-05bc6d19dd3e"
      },
      "outputs": [
        {
          "data": {
            "text/plain": [
              "matrix([[1, 2],\n",
              "        [3, 4]])"
            ]
          },
          "execution_count": 18,
          "metadata": {},
          "output_type": "execute_result"
        }
      ],
      "source": [
        "A = np.matrix(\n",
        "    [\n",
        "        [1, 2],\n",
        "        [3, 4]\n",
        "    ]\n",
        ")\n",
        "A\n"
      ]
    },
    {
      "cell_type": "markdown",
      "metadata": {
        "id": "_bEbFWvkXqaZ"
      },
      "source": [
        "### 4.1 Matriz identidad $I$\n",
        "\n",
        "La matriz identidad, denotada $I \\in \\mathbb{R}^{n \\times n}$, es una matriz cuadrada con unos en la diagonal y ceros en el resto. Eso es,\n",
        "\n",
        "$$\n",
        "I_{i j}= \\begin{cases}1 & i=j \\\\ 0 & i \\neq j\\end{cases}\n",
        "$$\n",
        "\n",
        "Tiene la propiedad de que para todo $A \\in \\mathbb{R}^{m \\times n}$,\n",
        "\n",
        "$$\n",
        "A I = A = I A .\n",
        "$$"
      ]
    },
    {
      "cell_type": "code",
      "execution_count": null,
      "metadata": {
        "colab": {
          "base_uri": "https://localhost:8080/"
        },
        "id": "Z1H2M5kGd3or",
        "outputId": "b57621e8-2aff-446b-9cf3-b4826136e3a6"
      },
      "outputs": [
        {
          "data": {
            "text/plain": [
              "array([[1., 0., 0.],\n",
              "       [0., 1., 0.],\n",
              "       [0., 0., 1.]])"
            ]
          },
          "execution_count": 54,
          "metadata": {},
          "output_type": "execute_result"
        }
      ],
      "source": [
        "import numpy as np\n",
        "\n",
        "A = np.eye(3)\n",
        "A"
      ]
    },
    {
      "cell_type": "markdown",
      "metadata": {
        "id": "x1R03KQ0X1a0"
      },
      "source": [
        "### 4.2 Matrices diagonales\n",
        "\n",
        "Una matriz diagonal es una matriz donde todos los elementos no diagonales son 0. Esto normalmente se denota como $$D=\\operatorname{diag}\\left(d_{1}, d_{2}, \\ldots, d_{n}\\right)$$, con\n",
        "\n",
        "$$\n",
        "D_{i j}= \\begin{cases}d_{i} & i=j \\\\ 0 & i \\neq j\\end{cases}\n",
        "$$\n",
        "\n",
        "Claramente, $$I=\\operatorname{diag}(1,1, \\ldots, 1)$$."
      ]
    },
    {
      "cell_type": "code",
      "execution_count": null,
      "metadata": {
        "colab": {
          "base_uri": "https://localhost:8080/"
        },
        "id": "MXNjxS5meWUs",
        "outputId": "ee9bf1c9-19a6-4364-cb4e-d70af30918f6"
      },
      "outputs": [
        {
          "data": {
            "text/plain": [
              "array([1, 4])"
            ]
          },
          "execution_count": 55,
          "metadata": {},
          "output_type": "execute_result"
        }
      ],
      "source": [
        "A = np.matrix('1 2 3; 3 4 5')\n",
        "np.diag(A)"
      ]
    },
    {
      "cell_type": "code",
      "execution_count": null,
      "metadata": {
        "colab": {
          "base_uri": "https://localhost:8080/"
        },
        "id": "QYMpNkdged8f",
        "outputId": "04153994-2bea-4d1b-d2be-881d8c4ce1b3"
      },
      "outputs": [
        {
          "data": {
            "text/plain": [
              "array([1, 4, 8])"
            ]
          },
          "execution_count": 56,
          "metadata": {},
          "output_type": "execute_result"
        }
      ],
      "source": [
        "A = np.matrix('1 2 3; 3 4 5; 6 7 8')\n",
        "np.diag(A)"
      ]
    },
    {
      "cell_type": "markdown",
      "metadata": {
        "id": "kEOwk2wha6af"
      },
      "source": [
        "### 4.3 La traspuesta de una matriz $A^{T}$\n",
        "\n",
        "La traspuesta de una matriz resulta de \"voltear\" las filas y columnas. Dada una matriz $A \\in \\mathbb{R}^{m \\times n}$, su traspuesta, denotada como $A^{T} \\in \\mathbb{R}^{n \\times m}$, es una $ n \\times m$ matriz cuyas entradas están dadas por\n",
        "\n",
        "$$\n",
        "\\left(A^{T}\\right)_{i j}=A_{j i}\n",
        "$$\n",
        "\n",
        "Las siguientes propiedades de las traspuestas se verifican fácilmente:\n",
        "\n",
        "1. $\\left(A^{T}\\right)^{T}=A$\n",
        "1. $(A B)^{T}=B^{T} A^{T}$\n",
        "1. $(A+B)^{T}=A^{T}+B^{T}$\n"
      ]
    },
    {
      "cell_type": "code",
      "execution_count": null,
      "metadata": {
        "colab": {
          "base_uri": "https://localhost:8080/"
        },
        "id": "alYogRM7fDxb",
        "outputId": "3f81c55d-0406-413c-be9f-9dc843a47d9b"
      },
      "outputs": [
        {
          "data": {
            "text/plain": [
              "matrix([[1, 2, 3],\n",
              "        [3, 4, 5],\n",
              "        [6, 7, 8]])"
            ]
          },
          "execution_count": 19,
          "metadata": {},
          "output_type": "execute_result"
        }
      ],
      "source": [
        "A = np.matrix('1 2 3; 3 4 5; 6 7 8')\n",
        "A\n"
      ]
    },
    {
      "cell_type": "code",
      "execution_count": null,
      "metadata": {
        "colab": {
          "base_uri": "https://localhost:8080/"
        },
        "id": "r0c8BzwQfMnO",
        "outputId": "1ec4feab-decc-40e0-bfe0-b3ebe47b6853"
      },
      "outputs": [
        {
          "data": {
            "text/plain": [
              "matrix([[1, 3, 6],\n",
              "        [2, 4, 7],\n",
              "        [3, 5, 8]])"
            ]
          },
          "execution_count": 20,
          "metadata": {},
          "output_type": "execute_result"
        }
      ],
      "source": [
        "np.transpose(A)"
      ]
    },
    {
      "cell_type": "code",
      "execution_count": null,
      "metadata": {
        "colab": {
          "base_uri": "https://localhost:8080/"
        },
        "id": "agiDotmofOC2",
        "outputId": "e0467135-65fa-4241-e13b-7667f7724868"
      },
      "outputs": [
        {
          "name": "stdout",
          "output_type": "stream",
          "text": [
            "Object `A # Check en internet` not found.\n"
          ]
        }
      ],
      "source": [
        "?A # Check en internet"
      ]
    },
    {
      "cell_type": "code",
      "execution_count": null,
      "metadata": {
        "colab": {
          "base_uri": "https://localhost:8080/"
        },
        "id": "krybLsKH0bsc",
        "outputId": "d030ebc0-3149-4366-d828-3d4d685aeaa5"
      },
      "outputs": [
        {
          "data": {
            "text/plain": [
              "matrix([[1, 3, 6],\n",
              "        [2, 4, 7],\n",
              "        [3, 5, 8]])"
            ]
          },
          "execution_count": 24,
          "metadata": {},
          "output_type": "execute_result"
        }
      ],
      "source": [
        "A.T"
      ]
    },
    {
      "cell_type": "code",
      "execution_count": null,
      "metadata": {
        "id": "ZSl-Or4E0PM6"
      },
      "outputs": [],
      "source": [
        "?np.matrix"
      ]
    },
    {
      "cell_type": "markdown",
      "metadata": {
        "id": "9uiEAbijyc7b"
      },
      "source": [
        "### 4.4 Traza de una matriz\n",
        "\n",
        "La traza de una matriz cuadrada $A \\in \\mathbb{R}^{n \\times n}$, denotada $\\operatorname{tr} A$, es la suma de los elementos de la diagonal de la matriz:\n",
        "\n",
        "$$\n",
        "\\operatorname{tr} A=\\sum_{i=1}^{n} A_{i i}\n",
        "$$"
      ]
    },
    {
      "cell_type": "markdown",
      "metadata": {
        "id": "9_KuBPvTyYW6"
      },
      "source": [
        "#### 4.4.1 Propiedades\n",
        "\n",
        "\n",
        "1. For $A \\in \\mathbb{R}^{n \\times n}, \\operatorname{tr} A=\\operatorname{tr} A^{T}$.\n",
        "\n",
        "1. For $A, B \\in \\mathbb{R}^{n \\times n}, \\operatorname{tr}(A+B)=\\operatorname{tr} A+\\operatorname{tr} B$.\n",
        "\n",
        "1. For $A \\in \\mathbb{R}^{n \\times n}, t \\in \\mathbb{R}, \\operatorname{tr}(t A)=t \\operatorname{tr} A$.\n",
        "\n",
        "1. For $A, B$ such that $A B$ is square, $\\operatorname{tr} A B=\\operatorname{tr} B A$.\n",
        "\n",
        "1. For $A, B, C$ such that $A B C$ is square, $\\operatorname{tr} A B C=\\operatorname{tr} B C A=\\operatorname{tr} C A B$, and so on for the product of more matrices.\n",
        "\n"
      ]
    },
    {
      "cell_type": "markdown",
      "metadata": {
        "id": "GZJnHlIjcPBH"
      },
      "source": [
        "## 5 Funciones sobre vectores\n",
        "\n",
        "Por lo general, necesitamos tener herramientas que nos permitan medir características de vectores y matrices. Dependiendo del contexto, usaremos distintas pero lo importante es entender de manera simple qué son? Por lo general, son solo funciones donde la entrada de la misma es un vector o matriz y la salida es un número. Sin embargo, existen funciones donde la salida pueda no ser un número. Sin importar cuál usemos, intentaremos siempre clarificar el motivo, las dimensiones y la manera en cómo se usan,"
      ]
    },
    {
      "cell_type": "markdown",
      "source": [
        "### 5.1 Normas de vectores\n",
        "\n",
        "Una norma de un vector $\\|x\\|$ es informalmente una medida de la \"longitud\" del vector.\n",
        "\n",
        "Más formalmente, una norma es cualquier función $f: \\mathbb{R}^{n} \\rightarrow \\mathbb{R}$ que satisface 4 propiedades:\n",
        "\n",
        "1. (no negatividad) $$\\forall x \\in \\mathbb{R}^{n}, f(x) \\geq 0$$\n",
        "1. (definitividad) $$f(x)=0 \\iff x=0$$\n",
        "1. (homogeneidad) $$\\forall x \\in \\mathbb{R}^{n}, t \\in \\mathbb{R}, f(t x)=|t| f(x)$$\n",
        "1. (desigualdad triangular).$$\\forall x, y \\in \\mathbb{R}^{n}, f(x+y) \\leq f(x)+f(y)$$\n"
      ],
      "metadata": {
        "id": "j7stt1OHRlu0"
      }
    },
    {
      "cell_type": "markdown",
      "metadata": {
        "id": "s21zEDkUfZiO"
      },
      "source": [
        "#### 5.1.1 Ejemplos de normas\n",
        "\n",
        "La norma euclidiana o $\\ell_{2}$ de uso común,\n",
        "\n",
        "$$\n",
        "\\|x\\|_{2}=\\sqrt{\\sum_{i=1}^{n} x_{i}^{2}}\n",
        "$$\n",
        "\n"
      ]
    },
    {
      "cell_type": "code",
      "execution_count": null,
      "metadata": {
        "colab": {
          "base_uri": "https://localhost:8080/"
        },
        "id": "_96MCoMEgjq4",
        "outputId": "bbd8b7c7-4bf5-4d37-c8b4-9c3997e76524"
      },
      "outputs": [
        {
          "data": {
            "text/plain": [
              "array([-4, -3, -2, -1,  0,  1,  2,  3,  4])"
            ]
          },
          "execution_count": 63,
          "metadata": {},
          "output_type": "execute_result"
        }
      ],
      "source": [
        "from numpy import linalg as LA\n",
        "a = np.arange(9) - 4\n",
        "a\n"
      ]
    },
    {
      "cell_type": "code",
      "execution_count": null,
      "metadata": {
        "colab": {
          "base_uri": "https://localhost:8080/"
        },
        "id": "ZMLFHR8pjGTL",
        "outputId": "34eb4a69-f0eb-4694-a1d9-1b4e2177d3c9"
      },
      "outputs": [
        {
          "data": {
            "text/plain": [
              "array([-4, -3, -2, -1,  0,  1,  2,  3,  4])"
            ]
          },
          "execution_count": 71,
          "metadata": {},
          "output_type": "execute_result"
        }
      ],
      "source": [
        "a.ravel()"
      ]
    },
    {
      "cell_type": "markdown",
      "metadata": {
        "id": "R3fPVWVShju_"
      },
      "source": [
        "Ejercicio nuestra propia norma 2"
      ]
    },
    {
      "cell_type": "code",
      "execution_count": null,
      "metadata": {
        "id": "6cXEuwBMhl_V"
      },
      "outputs": [],
      "source": []
    },
    {
      "cell_type": "markdown",
      "metadata": {
        "id": "eMb6JeXFhmjM"
      },
      "source": [
        "Otros ejemplos"
      ]
    },
    {
      "cell_type": "code",
      "execution_count": null,
      "metadata": {
        "colab": {
          "base_uri": "https://localhost:8080/"
        },
        "id": "ddDVAuQ0hZne",
        "outputId": "f1d903a3-0f0e-4da2-e03e-87a00894ee49"
      },
      "outputs": [
        {
          "data": {
            "text/plain": [
              "7.745966692414834"
            ]
          },
          "execution_count": 67,
          "metadata": {},
          "output_type": "execute_result"
        }
      ],
      "source": [
        "np.sqrt(np.sum(a**2))"
      ]
    },
    {
      "cell_type": "markdown",
      "metadata": {
        "id": "Rf8jDUiIhosS"
      },
      "source": [
        "#### 5.1.2 Numpy"
      ]
    },
    {
      "cell_type": "code",
      "execution_count": null,
      "metadata": {
        "colab": {
          "base_uri": "https://localhost:8080/"
        },
        "id": "T9R7BJIOhq6p",
        "outputId": "2836e91e-bf03-4562-aa45-0b41b8dc7297"
      },
      "outputs": [
        {
          "data": {
            "text/plain": [
              "7.745966692414834"
            ]
          },
          "execution_count": 69,
          "metadata": {},
          "output_type": "execute_result"
        }
      ],
      "source": [
        "LA.norm(a)"
      ]
    },
    {
      "cell_type": "code",
      "execution_count": null,
      "metadata": {
        "colab": {
          "base_uri": "https://localhost:8080/"
        },
        "id": "rsF9TYKDhE9v",
        "outputId": "8998d67a-a58c-425b-dda4-c575e81d4332"
      },
      "outputs": [
        {
          "data": {
            "text/plain": [
              "array([[-4, -3, -2],\n",
              "       [-1,  0,  1],\n",
              "       [ 2,  3,  4]])"
            ]
          },
          "execution_count": 64,
          "metadata": {},
          "output_type": "execute_result"
        }
      ],
      "source": [
        "b = a.reshape((3, 3))\n",
        "b"
      ]
    },
    {
      "cell_type": "code",
      "execution_count": null,
      "metadata": {
        "colab": {
          "base_uri": "https://localhost:8080/"
        },
        "id": "hJh-N9bZhFLF",
        "outputId": "9f3fc0a9-d345-4fdb-e66e-c35218da918e"
      },
      "outputs": [
        {
          "data": {
            "text/plain": [
              "7.745966692414834"
            ]
          },
          "execution_count": 65,
          "metadata": {},
          "output_type": "execute_result"
        }
      ],
      "source": [
        "LA.norm(a)\n",
        "\n"
      ]
    },
    {
      "cell_type": "code",
      "execution_count": null,
      "metadata": {
        "colab": {
          "base_uri": "https://localhost:8080/"
        },
        "id": "3InPWtKYhVNU",
        "outputId": "c9af0677-4ad2-43ae-867d-6abda2216fbb"
      },
      "outputs": [
        {
          "data": {
            "text/plain": [
              "7.745966692414834"
            ]
          },
          "execution_count": 66,
          "metadata": {},
          "output_type": "execute_result"
        }
      ],
      "source": [
        "LA.norm(b)"
      ]
    },
    {
      "cell_type": "markdown",
      "metadata": {
        "id": "ea5HOWiDgd7N"
      },
      "source": [
        "La norma $\\ell_{1}$,\n",
        "\n",
        "$$\n",
        "\\|x\\|_{1}=\\sum_{i=1}^{n}\\left|x_{i}\\right|\n",
        "$$"
      ]
    },
    {
      "cell_type": "code",
      "execution_count": null,
      "metadata": {
        "colab": {
          "base_uri": "https://localhost:8080/"
        },
        "id": "KZSl50_GmH14",
        "outputId": "06e94eb3-4e1b-4de8-e2b6-6ad4d6bcecd5"
      },
      "outputs": [
        {
          "data": {
            "text/plain": [
              "20.0"
            ]
          },
          "execution_count": 75,
          "metadata": {},
          "output_type": "execute_result"
        }
      ],
      "source": [
        "LA.norm(b.flatten(), ord=1)"
      ]
    },
    {
      "cell_type": "code",
      "execution_count": null,
      "metadata": {
        "colab": {
          "base_uri": "https://localhost:8080/"
        },
        "id": "PhA8JhBLlzwJ",
        "outputId": "6e1ff74b-b3d2-4379-c5d2-7cf19ffda895"
      },
      "outputs": [
        {
          "data": {
            "text/plain": [
              "7.0"
            ]
          },
          "execution_count": 74,
          "metadata": {},
          "output_type": "execute_result"
        }
      ],
      "source": [
        "LA.norm(b, ord=1)"
      ]
    },
    {
      "cell_type": "code",
      "execution_count": null,
      "metadata": {
        "id": "lAqGffCkl5bJ"
      },
      "outputs": [],
      "source": [
        "?LA.norm"
      ]
    },
    {
      "cell_type": "markdown",
      "metadata": {
        "id": "W3_h2-9GgeFH"
      },
      "source": [
        "\n",
        "\n",
        "La norma $\\ell_{\\infty}$,\n",
        "\n",
        "$$\n",
        "\\|x\\|_{\\infty}=\\max _{i}\\left|x_{i}\\right| .\n",
        "$$"
      ]
    },
    {
      "cell_type": "markdown",
      "metadata": {
        "id": "0FFRYmf8gSxU"
      },
      "source": [
        "### 5.2 Generalización de las normas (importante luego)\n",
        "\n",
        "In fact, all three norms presented so far are examples of the family of $\\ell_{p}$ norms, which are parameterized by a real number $p \\geq 1$, and defined as\n",
        "\n",
        "$$\n",
        "\\|x\\|_{p}=\\left(\\sum_{i=1}^{n}\\left|x_{i}\\right|^{p}\\right)^{1 / p}\n",
        "$$\n"
      ]
    },
    {
      "cell_type": "markdown",
      "metadata": {
        "id": "d2SRr2hG2GM5"
      },
      "source": [
        "La norma 0, definida como \"número de componentes que NO son cero en un vector\""
      ]
    },
    {
      "cell_type": "code",
      "execution_count": null,
      "metadata": {
        "id": "AQMmqCNtfYWC"
      },
      "outputs": [],
      "source": [
        "a = np.array([-1, 0, 9, 0, 0]) # La norma 0 es 2. Selección"
      ]
    },
    {
      "cell_type": "markdown",
      "source": [
        "## 6 Funciones sobre matrices"
      ],
      "metadata": {
        "id": "T0AQHtMQSn5G"
      }
    },
    {
      "cell_type": "markdown",
      "metadata": {
        "id": "L8A9kuU-dVKz"
      },
      "source": [
        "\n",
        "#### 6.1 La norma Frobenius\n",
        "\n",
        "También se pueden definir normas para matrices, como la norma de Frobenius,\n",
        "\n",
        "$$\n",
        "\\|A\\|_{F}=\\sqrt{\\sum_{i=1}^{m} \\sum_{j=1}^{n} A_{i j}^{2}}=\\sqrt{\\operatorname {tr}\\left(A^{T} A\\right)} .\n",
        "$$\n",
        "\n",
        "Existen muchas otras normas, pero están fuera del alcance de esta revisión."
      ]
    },
    {
      "cell_type": "markdown",
      "source": [
        "## 7 Operaciones entre vectores"
      ],
      "metadata": {
        "id": "MFxhvP79Sz87"
      }
    },
    {
      "cell_type": "markdown",
      "metadata": {
        "id": "LsUQ99MlYhBQ"
      },
      "source": [
        "### 7.1 Productos Vector-Vector\n",
        "\n",
        "\n"
      ]
    },
    {
      "cell_type": "markdown",
      "source": [
        "#### 7.1.1 Producto interno o producto punto (inner product or dot product)\n",
        "\n",
        "$$\n",
        "x^{T} y \\in \\mathbb{R}=\\left[\\begin{array}{llll}\n",
        "x_{1} & x_{2} & \\cdots & x_{n}\n",
        "\\end{array}\\right]\\left[\\begin{array}{c}\n",
        "y_{1} \\\\\n",
        "y_{2} \\\\\n",
        "\\vdots \\\\\n",
        "y_{n}\n",
        "\\end{array}\\right]=\\sum_{i=1}^{n} x_{i} y_{i}\n",
        "\\text{ con } x, y \\in \\mathbb{R}^{n}\n",
        "$$\n"
      ],
      "metadata": {
        "id": "XABfUKzOS8kD"
      }
    },
    {
      "cell_type": "code",
      "execution_count": null,
      "metadata": {
        "colab": {
          "base_uri": "https://localhost:8080/"
        },
        "id": "0uFWcbIrqoAD",
        "outputId": "31814917-832e-442f-a59e-bd4fc2dbe7a7"
      },
      "outputs": [
        {
          "output_type": "execute_result",
          "data": {
            "text/plain": [
              "20"
            ]
          },
          "metadata": {},
          "execution_count": 40
        }
      ],
      "source": [
        "import numpy as np\n",
        "\n",
        "x = np.array([1, 2, 3, 4])\n",
        "y = np.array([4, 3, 2, 1])\n",
        "np.dot(x, y)"
      ]
    },
    {
      "cell_type": "code",
      "execution_count": null,
      "metadata": {
        "colab": {
          "base_uri": "https://localhost:8080/"
        },
        "id": "MriiIPVzSHvP",
        "outputId": "eaf75827-9904-4329-cac1-f80ec386f65c"
      },
      "outputs": [
        {
          "output_type": "execute_result",
          "data": {
            "text/plain": [
              "array([4, 6, 6, 4])"
            ]
          },
          "metadata": {},
          "execution_count": 41
        }
      ],
      "source": [
        "x * y"
      ]
    },
    {
      "cell_type": "code",
      "execution_count": null,
      "metadata": {
        "colab": {
          "base_uri": "https://localhost:8080/"
        },
        "id": "0a1OE6JoSNJg",
        "outputId": "590c994a-0503-40c4-d638-34be84c0932c"
      },
      "outputs": [
        {
          "output_type": "execute_result",
          "data": {
            "text/plain": [
              "20"
            ]
          },
          "metadata": {},
          "execution_count": 42
        }
      ],
      "source": [
        "x @ y"
      ]
    },
    {
      "cell_type": "code",
      "execution_count": null,
      "metadata": {
        "colab": {
          "base_uri": "https://localhost:8080/"
        },
        "id": "bKGB__Knq9uy",
        "outputId": "6ae70d24-6bbf-41f7-9c8b-5df89cf00a3b"
      },
      "outputs": [
        {
          "output_type": "execute_result",
          "data": {
            "text/plain": [
              "20"
            ]
          },
          "metadata": {},
          "execution_count": 43
        }
      ],
      "source": [
        "np.sum(x * y)"
      ]
    },
    {
      "cell_type": "code",
      "source": [
        "np.dot(x, y)"
      ],
      "metadata": {
        "colab": {
          "base_uri": "https://localhost:8080/"
        },
        "id": "E7j7axUv0lRW",
        "outputId": "48740ec6-0c71-4331-f38d-794ec8d7be5b"
      },
      "execution_count": null,
      "outputs": [
        {
          "output_type": "execute_result",
          "data": {
            "text/plain": [
              "20"
            ]
          },
          "metadata": {},
          "execution_count": 44
        }
      ]
    },
    {
      "cell_type": "markdown",
      "metadata": {
        "id": "JkWfkH93qk27"
      },
      "source": [
        "#### 7.1.2 outer product (Producto externo)\n",
        "\n",
        "\n",
        "$$\n",
        "x y^{T} \\in \\mathbb{R}^{m \\times n}=\\left[\\begin{array}{c}\n",
        "x_{1} \\\\\n",
        "x_{2} \\\\\n",
        "\\vdots \\\\\n",
        "x_{m}\n",
        "\\end{array}\\right]\\left[\\begin{array}{llll}\n",
        "y_{1} & y_{2} & \\cdots & y_{n}\n",
        "\\end{array}\\right]=\\left[\\begin{array}{cccc}\n",
        "x_{1} y_{1} & x_{1} y_{2} & \\cdots & x_{1} y_{n} \\\\\n",
        "x_{2} y_{1} & x_{2} y_{2} & \\cdots & x_{2} y_{n} \\\\\n",
        "\\vdots & \\vdots & \\ddots & \\vdots \\\\\n",
        "x_{m} y_{1} & x_{m} y_{2} & \\cdots & x_{m} y_{n}\n",
        "\\end{array}\\right]\n",
        "$$"
      ]
    },
    {
      "cell_type": "code",
      "execution_count": null,
      "metadata": {
        "id": "V1j4z-t1jZSR"
      },
      "outputs": [],
      "source": [
        "x = np.array([1, 2, 3, 4])\n",
        "y = np.ones(6)"
      ]
    },
    {
      "cell_type": "markdown",
      "metadata": {
        "id": "LQZQtXvAkL2I"
      },
      "source": [
        "Entendiendo las dimensiones"
      ]
    },
    {
      "cell_type": "code",
      "execution_count": null,
      "metadata": {
        "colab": {
          "base_uri": "https://localhost:8080/"
        },
        "id": "myzFia1HkO-p",
        "outputId": "f2d0ecbf-ee4a-424a-d09f-d1ed49e94265"
      },
      "outputs": [
        {
          "data": {
            "text/plain": [
              "(4,)"
            ]
          },
          "execution_count": 123,
          "metadata": {},
          "output_type": "execute_result"
        }
      ],
      "source": [
        "# Dimensiones de los vectores\n",
        "x.shape"
      ]
    },
    {
      "cell_type": "code",
      "execution_count": null,
      "metadata": {
        "colab": {
          "base_uri": "https://localhost:8080/"
        },
        "id": "q0OwvjAckUX0",
        "outputId": "e9853a5b-a030-4365-a2c0-1cd82849794b"
      },
      "outputs": [
        {
          "data": {
            "text/plain": [
              "(6,)"
            ]
          },
          "execution_count": 124,
          "metadata": {},
          "output_type": "execute_result"
        }
      ],
      "source": [
        "y.shape"
      ]
    },
    {
      "cell_type": "code",
      "execution_count": null,
      "metadata": {
        "colab": {
          "base_uri": "https://localhost:8080/"
        },
        "id": "Sziii_vRrW0f",
        "outputId": "7ed9bb00-e455-4a65-c332-ac8660fd52e3"
      },
      "outputs": [
        {
          "data": {
            "text/plain": [
              "array([[1., 1., 1., 1., 1., 1.],\n",
              "       [2., 2., 2., 2., 2., 2.],\n",
              "       [3., 3., 3., 3., 3., 3.],\n",
              "       [4., 4., 4., 4., 4., 4.]])"
            ]
          },
          "execution_count": 128,
          "metadata": {},
          "output_type": "execute_result"
        }
      ],
      "source": [
        "np.outer(x, y)"
      ]
    },
    {
      "cell_type": "code",
      "execution_count": null,
      "metadata": {
        "colab": {
          "base_uri": "https://localhost:8080/"
        },
        "id": "Ye7r5Woykcdg",
        "outputId": "475378dc-1ae1-4f19-cceb-e50de6355736"
      },
      "outputs": [
        {
          "data": {
            "text/plain": [
              "array([[1., 1., 1., 1., 1., 1.],\n",
              "       [2., 2., 2., 2., 2., 2.],\n",
              "       [3., 3., 3., 3., 3., 3.],\n",
              "       [4., 4., 4., 4., 4., 4.]])"
            ]
          },
          "execution_count": 15,
          "metadata": {},
          "output_type": "execute_result"
        }
      ],
      "source": [
        "np.outer(x.reshape(4, 1), y.reshape(6, 1).T)"
      ]
    },
    {
      "cell_type": "code",
      "execution_count": null,
      "metadata": {
        "colab": {
          "base_uri": "https://localhost:8080/"
        },
        "id": "YA09d4eercc0",
        "outputId": "502c3d45-3778-4af8-c1de-b86347980938"
      },
      "outputs": [
        {
          "data": {
            "text/plain": [
              "array([[1., 1., 1., 1., 1., 1.],\n",
              "       [2., 2., 2., 2., 2., 2.],\n",
              "       [3., 3., 3., 3., 3., 3.],\n",
              "       [4., 4., 4., 4., 4., 4.]])"
            ]
          },
          "execution_count": 18,
          "metadata": {},
          "output_type": "execute_result"
        }
      ],
      "source": [
        "np.outer(x.reshape(1, 4), y.reshape(6, 1))"
      ]
    },
    {
      "cell_type": "code",
      "execution_count": null,
      "metadata": {
        "colab": {
          "base_uri": "https://localhost:8080/"
        },
        "id": "ZZUB6_55rOUd",
        "outputId": "890ff9f6-28ba-47c3-c05d-100a2e03e984"
      },
      "outputs": [
        {
          "data": {
            "text/plain": [
              "array([[1., 1., 1., 1., 1., 1.],\n",
              "       [2., 2., 2., 2., 2., 2.],\n",
              "       [3., 3., 3., 3., 3., 3.],\n",
              "       [4., 4., 4., 4., 4., 4.]])"
            ]
          },
          "execution_count": 19,
          "metadata": {},
          "output_type": "execute_result"
        }
      ],
      "source": [
        "np.outer(x.reshape(4, 1), y.reshape(6, 1))"
      ]
    },
    {
      "cell_type": "markdown",
      "metadata": {
        "id": "10kZkB1VTzq6"
      },
      "source": [
        "Qué significa \"flattened\"?\n",
        "\n",
        "Tomado de [Outer product numpy](https://numpy.org/doc/stable/reference/generated/numpy.outer.html)\n",
        "\n",
        "![image.png](data:image/png;base64,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)\n"
      ]
    },
    {
      "cell_type": "code",
      "execution_count": null,
      "metadata": {
        "colab": {
          "base_uri": "https://localhost:8080/"
        },
        "id": "hGQswJFeUGTy",
        "outputId": "a4013bbf-a370-4511-cf34-bf6706fe8e52"
      },
      "outputs": [
        {
          "data": {
            "text/plain": [
              "array([1, 2, 3, 4])"
            ]
          },
          "execution_count": 133,
          "metadata": {},
          "output_type": "execute_result"
        }
      ],
      "source": [
        "x.reshape((2, 2)).flatten()"
      ]
    },
    {
      "cell_type": "code",
      "execution_count": null,
      "metadata": {
        "id": "epraNjJGo0AX"
      },
      "outputs": [],
      "source": [
        "from jupyterquiz import display_quiz"
      ]
    },
    {
      "cell_type": "markdown",
      "source": [
        "## 8 Operaciones entre Matrices y vectores"
      ],
      "metadata": {
        "id": "GYGfhzxdTNat"
      }
    },
    {
      "cell_type": "markdown",
      "metadata": {
        "id": "wgUQsS_gqhv-"
      },
      "source": [
        "### 8.1 Producto Matriz-Vector (Por filas)\n",
        "\n",
        "Si escribimos $A$ por filas, entonces podemos expresar $A x$ como,\n",
        "\n",
        "\n",
        "$$\n",
        "y=A x=\\left[\\begin{array}{ccc}\n",
        "- & a_{1}^{T} & - \\\\\n",
        "- & a_{2}^{T} & - \\\\\n",
        "& \\vdots & \\\\\n",
        "- & a_{m}^{T} & -\n",
        "\\end{array}\\right] * x= \\left[\\begin{array}{ccc}\n",
        "- & a_{1}^{T} & - \\\\\n",
        "- & a_{2}^{T} & - \\\\\n",
        "& \\vdots & \\\\\n",
        "- & a_{m}^{T} & -\n",
        "\\end{array}\\right] \\left[\\begin{array}{c}\n",
        "x_1 \\\\\n",
        "x_2 \\\\\n",
        "\\vdots \\\\\n",
        "x_n\n",
        "\\end{array}\\right]= \\left[\\begin{array}{c}\n",
        "a_{1}^{T} x \\\\\n",
        "a_{2}^{T} x \\\\\n",
        "\\vdots \\\\\n",
        "a_{m}^{T} x\n",
        "\\end{array}\\right]\n",
        "$$\n"
      ]
    },
    {
      "cell_type": "code",
      "execution_count": null,
      "metadata": {
        "colab": {
          "base_uri": "https://localhost:8080/"
        },
        "id": "LMlu_HWxtbEC",
        "outputId": "9f171e41-ace6-4010-c09c-68aa009cfd31"
      },
      "outputs": [
        {
          "data": {
            "text/plain": [
              "array([[ 2, -1,  4],\n",
              "       [ 1,  4, -4],\n",
              "       [ 3,  1, -1]])"
            ]
          },
          "execution_count": 134,
          "metadata": {},
          "output_type": "execute_result"
        }
      ],
      "source": [
        "# Matriz cuadrada random\n",
        "A = np.random.randint(-5, 5, (3, 3)) # Generar una matriz cuadrada de enteros en el rango [-5, 5]\n",
        "A"
      ]
    },
    {
      "cell_type": "code",
      "execution_count": null,
      "metadata": {
        "id": "PnA2tiERuMms"
      },
      "outputs": [],
      "source": [
        "x = np.ones(3)"
      ]
    },
    {
      "cell_type": "code",
      "execution_count": null,
      "metadata": {
        "colab": {
          "base_uri": "https://localhost:8080/"
        },
        "id": "Gx7-NE00uHd0",
        "outputId": "bb2de4d1-9620-4b6e-9437-5e73a7a62e26"
      },
      "outputs": [
        {
          "data": {
            "text/plain": [
              "array([5., 1., 3.])"
            ]
          },
          "execution_count": 136,
          "metadata": {},
          "output_type": "execute_result"
        }
      ],
      "source": [
        "A.dot(x)"
      ]
    },
    {
      "cell_type": "code",
      "execution_count": null,
      "metadata": {
        "colab": {
          "base_uri": "https://localhost:8080/"
        },
        "id": "A5p0qrUmueBt",
        "outputId": "fe4672db-d3ae-40cc-fdc9-894007c540f5"
      },
      "outputs": [
        {
          "data": {
            "text/plain": [
              "array([5., 1., 3.])"
            ]
          },
          "execution_count": 137,
          "metadata": {},
          "output_type": "execute_result"
        }
      ],
      "source": [
        "A @ x"
      ]
    },
    {
      "cell_type": "markdown",
      "metadata": {
        "id": "J9MTTpdmurOY"
      },
      "source": [
        "#### Slicing en numpy"
      ]
    },
    {
      "cell_type": "markdown",
      "metadata": {
        "id": "6RlmgkNfwWdj"
      },
      "source": [
        "La fila 1"
      ]
    },
    {
      "cell_type": "code",
      "execution_count": null,
      "metadata": {
        "colab": {
          "base_uri": "https://localhost:8080/"
        },
        "id": "-NDFEjjwunUx",
        "outputId": "74c71199-5f29-4215-e5fc-bac5965230f4"
      },
      "outputs": [
        {
          "data": {
            "text/plain": [
              "array([ 2, -1,  4])"
            ]
          },
          "execution_count": 138,
          "metadata": {},
          "output_type": "execute_result"
        }
      ],
      "source": [
        "A[0, :] # Quiero obtener la fila 0 y todas las columnas de A"
      ]
    },
    {
      "cell_type": "markdown",
      "metadata": {
        "id": "qrjPpI7xwY-j"
      },
      "source": [
        "La columna 1"
      ]
    },
    {
      "cell_type": "code",
      "execution_count": null,
      "metadata": {
        "colab": {
          "base_uri": "https://localhost:8080/"
        },
        "id": "zt3OboxhutF5",
        "outputId": "a3102621-c751-4579-aaa4-05d8e6436555"
      },
      "outputs": [
        {
          "data": {
            "text/plain": [
              "array([2, 1, 3])"
            ]
          },
          "execution_count": 140,
          "metadata": {},
          "output_type": "execute_result"
        }
      ],
      "source": [
        "A[:, 0]"
      ]
    },
    {
      "cell_type": "markdown",
      "metadata": {
        "id": "4q9C4yU7wkvN"
      },
      "source": [
        "Los elementos 1 y 2 de la columna 1?"
      ]
    },
    {
      "cell_type": "code",
      "execution_count": null,
      "metadata": {
        "colab": {
          "base_uri": "https://localhost:8080/"
        },
        "id": "jJd6vW3jwdNx",
        "outputId": "201087d1-5cf2-4020-9b67-1cf3eafb32d3"
      },
      "outputs": [
        {
          "data": {
            "text/plain": [
              "array([-1])"
            ]
          },
          "execution_count": 145,
          "metadata": {},
          "output_type": "execute_result"
        }
      ],
      "source": [
        "A[0:1, 1] # Rango [limite inferior, limite superior) -> 0, 1 -> 0:2"
      ]
    },
    {
      "cell_type": "code",
      "execution_count": null,
      "metadata": {
        "colab": {
          "base_uri": "https://localhost:8080/"
        },
        "id": "k3cO-avFWGJ4",
        "outputId": "7cc9950d-0ec5-4ab1-b177-35d6cd9c7ec7"
      },
      "outputs": [
        {
          "data": {
            "text/plain": [
              "array([-1,  4])"
            ]
          },
          "execution_count": 147,
          "metadata": {},
          "output_type": "execute_result"
        }
      ],
      "source": [
        "li = 0\n",
        "ls = 2\n",
        "\n",
        "A[lif:lsf, lic:lsc]"
      ]
    },
    {
      "cell_type": "markdown",
      "metadata": {
        "id": "dMWgcLQLvhRA"
      },
      "source": [
        "Si queremos nosotros hacer nuestra función\n",
        "\n",
        "\n",
        "$$\n",
        "y=A x=\\left[\\begin{array}{ccc}\n",
        "- & a_{1}^{T} & - \\\\\n",
        "- & a_{2}^{T} & - \\\\\n",
        "& \\vdots & \\\\\n",
        "- & a_{m}^{T} & -\n",
        "\\end{array}\\right] x=\\left[\\begin{array}{c}\n",
        "a_{1}^{T} x \\\\\n",
        "a_{2}^{T} x \\\\\n",
        "\\vdots \\\\\n",
        "a_{m}^{T} x\n",
        "\\end{array}\\right]\n",
        "$$\n"
      ]
    },
    {
      "cell_type": "code",
      "execution_count": null,
      "metadata": {
        "id": "m4AwvV2avnLh"
      },
      "outputs": [],
      "source": [
        "def matProdX(A, x):\n",
        "  result = []\n",
        "  # Itero desde la fila 0 hasta la fila m-1 (en este caso hasta 2 porque la matriz es 3x3)\n",
        "  for i in range(A.shape[0]):\n",
        "    # Para cada fila i, almacenamos a_i.T * x\n",
        "    result.append(\n",
        "        A[i, :].dot(x)\n",
        "    )\n",
        "  # Retornamos el arreglo con numpy\n",
        "  return np.array(result)"
      ]
    },
    {
      "cell_type": "code",
      "execution_count": null,
      "metadata": {
        "colab": {
          "base_uri": "https://localhost:8080/"
        },
        "id": "yN-wLeDuWqCP",
        "outputId": "66638768-f166-4086-9f90-01f1644e1412"
      },
      "outputs": [
        {
          "data": {
            "text/plain": [
              "(3, 3)"
            ]
          },
          "execution_count": 151,
          "metadata": {},
          "output_type": "execute_result"
        }
      ],
      "source": [
        "A.shape[0] # Tuple"
      ]
    },
    {
      "cell_type": "code",
      "execution_count": null,
      "metadata": {
        "colab": {
          "base_uri": "https://localhost:8080/"
        },
        "id": "QZaLCXLeukh0",
        "outputId": "79411221-77c6-4373-abe5-a6ea9d84144c"
      },
      "outputs": [
        {
          "data": {
            "text/plain": [
              "array([5., 1., 3.])"
            ]
          },
          "execution_count": 149,
          "metadata": {},
          "output_type": "execute_result"
        }
      ],
      "source": [
        "matProdX(A, x)"
      ]
    },
    {
      "cell_type": "markdown",
      "metadata": {
        "id": "Fvy78M8zu4Tt"
      },
      "source": [
        "\n",
        "### 8.2 Producto Matriz-Vector (Por columnas)\n",
        "\n",
        "Si escribimos $A$ por columnas, tenemos:\n",
        "\n",
        "\n",
        "$$\n",
        "y=A x=\\left[\\begin{array}{cccc}\n",
        "\\mid & \\mid & & \\mid \\\\\n",
        "a^{1} & a^{2} & \\ldots & a^{n} \\\\\n",
        "\\mid & \\mid & & \\mid\n",
        "\\end{array}\\right]\\left[\\begin{array}{c}\n",
        "x_{1} \\\\\n",
        "x_{2} \\\\\n",
        "\\vdots \\\\\n",
        "x_{n}\n",
        "\\end{array}\\right]=\\left[a^{1}\\right] x_{1}+\\left[a^{2}\\right] x_{2}+\\ldots+\\left[a^{n}\\right] x_{n} .\n",
        "$$\n",
        "\n",
        "Noción: $y$ es una combinación lineal de las columnas de $A$.\n",
        "\n",
        "Por ahora no vamos a extender este concepto pero se conecta con resolución de el sistema $Ax = b$"
      ]
    },
    {
      "cell_type": "code",
      "execution_count": null,
      "metadata": {
        "colab": {
          "base_uri": "https://localhost:8080/"
        },
        "id": "py3l2DYS14Ou",
        "outputId": "c75f9e17-0f74-4f36-9bd1-03441219f495"
      },
      "outputs": [
        {
          "data": {
            "text/plain": [
              "array([[ 2, -1,  4],\n",
              "       [ 1,  4, -4],\n",
              "       [ 3,  1, -1]])"
            ]
          },
          "execution_count": 156,
          "metadata": {},
          "output_type": "execute_result"
        }
      ],
      "source": [
        "A"
      ]
    },
    {
      "cell_type": "code",
      "execution_count": null,
      "metadata": {
        "colab": {
          "base_uri": "https://localhost:8080/"
        },
        "id": "1cJpOJ7sX0-F",
        "outputId": "509027d7-10e5-4dd0-ad34-b2a7e96e0117"
      },
      "outputs": [
        {
          "name": "stdout",
          "output_type": "stream",
          "text": [
            "1 8\n",
            "2 9\n",
            "3 10\n",
            "4 11\n"
          ]
        }
      ],
      "source": [
        "arr1 = [1, 2, 3, 4]\n",
        "arr2 = [8, 9, 10, 11]\n",
        "\n",
        "for arr1_i, arr2_i in zip(arr1, arr2):\n",
        "  print(arr1_i, arr2_i)"
      ]
    },
    {
      "cell_type": "code",
      "execution_count": null,
      "metadata": {
        "colab": {
          "base_uri": "https://localhost:8080/"
        },
        "id": "F8m-NCODY1JJ",
        "outputId": "8c490eb7-de5e-4425-95c2-06a769de46d7"
      },
      "outputs": [
        {
          "name": "stdout",
          "output_type": "stream",
          "text": [
            "[ 2 -1  4]\n",
            "[ 1  4 -4]\n",
            "[ 3  1 -1]\n"
          ]
        }
      ],
      "source": [
        "for ai in A:\n",
        "  print(ai)"
      ]
    },
    {
      "cell_type": "code",
      "execution_count": null,
      "metadata": {
        "colab": {
          "base_uri": "https://localhost:8080/"
        },
        "id": "Q4f_auZ21W3D",
        "outputId": "ff6a6412-5771-44c5-f1e3-a795bc9f5a32"
      },
      "outputs": [
        {
          "name": "stdout",
          "output_type": "stream",
          "text": [
            "[ 2 -1  4] 1.0\n",
            "[ 1  4 -4] 1.0\n",
            "[ 3  1 -1] 1.0\n"
          ]
        },
        {
          "data": {
            "text/plain": [
              "array([ 6.,  4., -1.])"
            ]
          },
          "execution_count": 155,
          "metadata": {},
          "output_type": "execute_result"
        }
      ],
      "source": [
        "result = np.zeros(3)\n",
        "for ai, xi in zip(A, x):\n",
        "  print(ai, xi)\n",
        "  result = np.add(result, ai * xi)\n",
        "result"
      ]
    },
    {
      "cell_type": "markdown",
      "metadata": {
        "id": "qbMK4Lg_17YX"
      },
      "source": [
        "#### 8.1 Qué pasa?"
      ]
    },
    {
      "cell_type": "code",
      "execution_count": null,
      "metadata": {
        "colab": {
          "base_uri": "https://localhost:8080/"
        },
        "id": "2E_3iIkY1-cH",
        "outputId": "244943b1-3f9c-418e-90e7-5d7269b6cb57"
      },
      "outputs": [
        {
          "data": {
            "text/plain": [
              "array([5., 1., 3.])"
            ]
          },
          "execution_count": 159,
          "metadata": {},
          "output_type": "execute_result"
        }
      ],
      "source": [
        "result = np.zeros(3)\n",
        "# Cuando iteramos en numpy, iteramos por filas\n",
        "# Entonces, iterar las filas de la traspuesta es lo mismo que iterar las columnas de A\n",
        "for ai, xi in zip(A.T, x):\n",
        "  result = np.add(result, ai * xi) # np.sum()\n",
        "result"
      ]
    },
    {
      "cell_type": "markdown",
      "metadata": {
        "id": "exzakNzx1N2h"
      },
      "source": [
        "#### 8.2 Usando listas (list comprehension)"
      ]
    },
    {
      "cell_type": "code",
      "execution_count": null,
      "metadata": {
        "colab": {
          "base_uri": "https://localhost:8080/"
        },
        "id": "NHxQxAz5ZUhE",
        "outputId": "0e6eda31-ee96-41ce-ff92-cf739fad8ac7"
      },
      "outputs": [
        {
          "data": {
            "text/plain": [
              "[0, 1, 4, 9, 16, 25, 36, 49, 64, 81, 100]"
            ]
          },
          "execution_count": 161,
          "metadata": {},
          "output_type": "execute_result"
        }
      ],
      "source": [
        "arr = []\n",
        "for i in range(0, 11):\n",
        "  arr.append(i*i)\n",
        "arr"
      ]
    },
    {
      "cell_type": "code",
      "execution_count": null,
      "metadata": {
        "colab": {
          "base_uri": "https://localhost:8080/"
        },
        "id": "io7wIX5PZkB-",
        "outputId": "ce691572-1712-4b42-854c-64550c8a5b20"
      },
      "outputs": [
        {
          "data": {
            "text/plain": [
              "[0, 4, 16, 36, 64, 100]"
            ]
          },
          "execution_count": 163,
          "metadata": {},
          "output_type": "execute_result"
        }
      ],
      "source": [
        "[i*i for i in range(0, 11) if i % 2 == 0] #"
      ]
    },
    {
      "cell_type": "code",
      "execution_count": null,
      "metadata": {
        "colab": {
          "base_uri": "https://localhost:8080/"
        },
        "id": "vUQJQfylxbgT",
        "outputId": "077b173f-ed8d-4017-c863-15ae1747ef19"
      },
      "outputs": [
        {
          "data": {
            "text/plain": [
              "array([5., 1., 3.])"
            ]
          },
          "execution_count": 165,
          "metadata": {},
          "output_type": "execute_result"
        }
      ],
      "source": [
        "np.sum([x[i]*A[:, i] for i in range(A.shape[1])], axis=0)"
      ]
    },
    {
      "cell_type": "markdown",
      "metadata": {
        "id": "tbOpDywp0Pl1"
      },
      "source": [
        "#### 8.3 Una mirada a Big data"
      ]
    },
    {
      "cell_type": "code",
      "source": [
        "A = np.random.randint(-5, 5, (3, 3)) # Generar una matriz cuadrada de enteros en el rango [-5, 5]\n",
        "A"
      ],
      "metadata": {
        "colab": {
          "base_uri": "https://localhost:8080/"
        },
        "id": "eY-GlqFBUvOz",
        "outputId": "ac2b84b3-bf0b-41f5-8f40-00117131327e"
      },
      "execution_count": null,
      "outputs": [
        {
          "output_type": "execute_result",
          "data": {
            "text/plain": [
              "array([[ 4, -1,  0],\n",
              "       [ 0,  2,  3],\n",
              "       [ 4, -5, -5]])"
            ]
          },
          "metadata": {},
          "execution_count": 3
        }
      ]
    },
    {
      "cell_type": "code",
      "source": [
        "x = np.ones(3)"
      ],
      "metadata": {
        "id": "Xf3_GnH6Uyvh"
      },
      "execution_count": null,
      "outputs": []
    },
    {
      "cell_type": "code",
      "source": [
        "A @ x"
      ],
      "metadata": {
        "colab": {
          "base_uri": "https://localhost:8080/"
        },
        "id": "r9Bf7RX0U5Yv",
        "outputId": "a4fe6cb2-bd9a-4730-bccd-5dc56d6b1fa1"
      },
      "execution_count": null,
      "outputs": [
        {
          "output_type": "execute_result",
          "data": {
            "text/plain": [
              "array([ 3.,  5., -6.])"
            ]
          },
          "metadata": {},
          "execution_count": 7
        }
      ]
    },
    {
      "cell_type": "code",
      "execution_count": null,
      "metadata": {
        "colab": {
          "base_uri": "https://localhost:8080/"
        },
        "id": "PdiFxwXs0UWP",
        "outputId": "847c6321-5a18-4815-d885-4cce24bdb955"
      },
      "outputs": [
        {
          "output_type": "execute_result",
          "data": {
            "text/plain": [
              "array([ 3.,  5., -6.])"
            ]
          },
          "metadata": {},
          "execution_count": 5
        }
      ],
      "source": [
        "import numpy as np\n",
        "from functools import reduce\n",
        "\n",
        "# Haskell\n",
        "# Hadoop -> Yahoo; Big Data -M MapReduce\n",
        "# Spark -> Databricks\n",
        "\n",
        "reduce(np.add, [x[i]*A[:, i] for i in range(A.shape[1])])"
      ]
    },
    {
      "cell_type": "code",
      "execution_count": null,
      "metadata": {
        "colab": {
          "base_uri": "https://localhost:8080/"
        },
        "id": "fzPlD2S3bhCn",
        "outputId": "b4b51ad3-b0e1-47db-8c80-08cdffc402ab"
      },
      "outputs": [
        {
          "output_type": "execute_result",
          "data": {
            "text/plain": [
              "array([ 3.,  5., -6.])"
            ]
          },
          "metadata": {},
          "execution_count": 26
        }
      ],
      "source": [
        "reduce(np.add, map(lambda xi, ai: xi*ai, x, A.T))"
      ]
    },
    {
      "cell_type": "markdown",
      "metadata": {
        "id": "EHrh594qvTg2"
      },
      "source": [
        "### 8.3 Producto Matriz-Vector (Izquierda vector fila)\n",
        "\n",
        "También es posible multiplicar a la izquierda por un vector fila.\n",
        "\n",
        "Si escribimos $A$ por columnas, entonces podemos expresar $x^{\\top} A$ como,\n",
        "\n",
        "$$\n",
        "y^{T}=x^{T} A=x^{T}\\left[\\begin{array}{cccc}\n",
        "\\mid & \\mid & & \\mid \\\\\n",
        "a^{1} & a^{2} & \\cdots & a^{n} \\\\\n",
        "\\mid & \\mid & & \\mid\n",
        "\\end{array}\\right]=\\left[\\begin{array}{llll}\n",
        "x^{T} a^{1} & x^{T} a^{2} & \\cdots & x^{T} a^{n}\n",
        "\\end{array}\\right]\n",
        "$$\n"
      ]
    },
    {
      "cell_type": "code",
      "execution_count": null,
      "metadata": {
        "id": "f9kiDI801Gtl"
      },
      "outputs": [],
      "source": [
        "# Ustedes"
      ]
    },
    {
      "cell_type": "markdown",
      "metadata": {
        "id": "9CUrv0r3YRIZ"
      },
      "source": [
        "\n",
        "### 8.4 Product Matriz-Vector\n",
        "\n",
        "También es posible multiplicar a la izquierda por un vector fila.\n",
        "\n",
        "expresando $A$ en términos de filas tenemos:\n",
        "\n",
        "$$\n",
        "\\begin{aligned}\n",
        "y^{T}=x^{T} A & =\\left[\\begin{array}{llll}\n",
        "x_{1} & x_{2} & \\cdots & x_{m}\n",
        "\\end{array}\\right]\\left[\\begin{array}{ccc}\n",
        "- & a_{1}^{T} & - \\\\\n",
        "- & a_{2}^{T} & - \\\\\n",
        "& \\vdots & \\\\\n",
        "- & a_{m}^{T} & -\n",
        "\\end{array}\\right] \\\\\n",
        "& =x_{1}\\left[\\begin{array}{lll}\n",
        "- & a_{1}^{T} & -\n",
        "\\end{array}\\right]+x_{2}\\left[\\begin{array}{lll}\n",
        "- & a_{2}^{T} & -\n",
        "\\end{array}\\right]+\\ldots+x_{m}\\left[\\begin{array}{lll}\n",
        "- & a_{m}^{T} & -\n",
        "\\end{array}\\right]\n",
        "\\end{aligned}\n",
        "$$\n",
        "\n",
        "$y^{T}$ es una combinación lineal de las filas de $A$.\n",
        "\n"
      ]
    },
    {
      "cell_type": "code",
      "execution_count": null,
      "metadata": {
        "id": "NKawqtcc1Ifm"
      },
      "outputs": [],
      "source": [
        "# Ustedes"
      ]
    },
    {
      "cell_type": "markdown",
      "source": [
        "## 9 Operaciones entre Matrices"
      ],
      "metadata": {
        "id": "WJK_q-XnTnhO"
      }
    },
    {
      "cell_type": "markdown",
      "metadata": {
        "id": "sXq45lQ-va75"
      },
      "source": [
        "### 9.1 Multiplicación Matriz-Matriz: Productos punto\n",
        "\n",
        "Como un conjunto de productos vector-vector (producto punto)\n",
        "\n",
        "\n",
        "$$\n",
        "C=A B=\\left[\\begin{array}{ccc}\n",
        "- & a_{1}^{T} & - \\\\\n",
        "- & a_{2}^{T} & - \\\\\n",
        "& \\vdots & \\\\\n",
        "- & a_{m}^{T} & -\n",
        "\\end{array}\\right]\\left[\\begin{array}{cccc}\n",
        "\\mid & \\mid & & \\mid \\\\\n",
        "b^{1} & b^{2} & \\cdots & b^{p} \\\\\n",
        "\\mid & \\mid & & \\mid\n",
        "\\end{array}\\right]=\\left[\\begin{array}{cccc}\n",
        "a_{1}^{T} b^{1} & a_{1}^{T} b^{2} & \\cdots & a_{1}^{T} b^{p} \\\\\n",
        "a_{2}^{T} b^{1} & a_{2}^{T} b^{2} & \\cdots & a_{2}^{T} b^{p} \\\\\n",
        "\\vdots & \\vdots & \\ddots & \\vdots \\\\\n",
        "a_{m}^{T} b^{1} & a_{m}^{T} b^{2} & \\cdots & a_{m}^{T} b^{p}\n",
        "\\end{array}\\right] .\n",
        "$$"
      ]
    },
    {
      "cell_type": "markdown",
      "metadata": {
        "id": "5ywm7NSDcjXL"
      },
      "source": [
        "Cuál es la condición en las dimensiones de A y B para que exista A*B?\n",
        "\n",
        "El número de columnas de A sea igual al número de filas de B."
      ]
    },
    {
      "cell_type": "code",
      "execution_count": null,
      "metadata": {
        "colab": {
          "base_uri": "https://localhost:8080/"
        },
        "id": "XlBLJiv7vgqi",
        "outputId": "afe28e93-40d8-4c3e-cc67-832675bd4ff3"
      },
      "outputs": [
        {
          "data": {
            "text/plain": [
              "array([[ 1, -3, -2],\n",
              "       [ 3,  2, -5],\n",
              "       [-1,  4, -3]])"
            ]
          },
          "execution_count": 173,
          "metadata": {},
          "output_type": "execute_result"
        }
      ],
      "source": [
        "# Matriz cuadrada random\n",
        "A = np.random.randint(-5, 5, (3, 3))\n",
        "A"
      ]
    },
    {
      "cell_type": "code",
      "execution_count": null,
      "metadata": {
        "colab": {
          "base_uri": "https://localhost:8080/"
        },
        "id": "cQ8Jy7Aw2wTY",
        "outputId": "3adb2c6d-21bb-4a54-aaff-7475640de7d2"
      },
      "outputs": [
        {
          "data": {
            "text/plain": [
              "array([[-4,  0,  2],\n",
              "       [ 2, -5,  2],\n",
              "       [-2,  4, -5]])"
            ]
          },
          "execution_count": 174,
          "metadata": {},
          "output_type": "execute_result"
        }
      ],
      "source": [
        "B = np.random.randint(-5, 5, (3, 3))\n",
        "B"
      ]
    },
    {
      "cell_type": "code",
      "execution_count": null,
      "metadata": {
        "colab": {
          "base_uri": "https://localhost:8080/"
        },
        "id": "y3VNhzSd27jO",
        "outputId": "a11d27bb-a281-411b-f1e9-35188eed4c97"
      },
      "outputs": [
        {
          "data": {
            "text/plain": [
              "array([[ -6,   7,   6],\n",
              "       [  2, -30,  35],\n",
              "       [ 18, -32,  21]])"
            ]
          },
          "execution_count": 175,
          "metadata": {},
          "output_type": "execute_result"
        }
      ],
      "source": [
        "A @ B"
      ]
    },
    {
      "cell_type": "code",
      "execution_count": null,
      "metadata": {
        "colab": {
          "base_uri": "https://localhost:8080/"
        },
        "id": "A1h6rWn53MeF",
        "outputId": "15bedf68-2d90-4b19-a33b-4aa746c92ddd"
      },
      "outputs": [
        {
          "data": {
            "text/plain": [
              "array([[ -6,   7,   6],\n",
              "       [  2, -30,  35],\n",
              "       [ 18, -32,  21]])"
            ]
          },
          "execution_count": 176,
          "metadata": {},
          "output_type": "execute_result"
        }
      ],
      "source": [
        "A.dot(B)"
      ]
    },
    {
      "cell_type": "markdown",
      "metadata": {
        "id": "QkO1V48uvg8t"
      },
      "source": [
        "### 9.2 Multiplicación Matriz-Matriz: Suma de productos externos\n",
        "\n",
        "Como la suma de productos externos (relacionado con la factorización SVD)\n",
        "\n",
        "$$\n",
        "C=A B=\\left[\\begin{array}{cccc}\n",
        "\\mid & \\mid & & \\mid \\\\\n",
        "a^{1} & a^{2} & \\cdots & a^{p} \\\\\n",
        "\\mid & \\mid & & \\mid\n",
        "\\end{array}\\right]\\left[\\begin{array}{ccc}\n",
        "- & b_{1}^{T} & - \\\\\n",
        "- & b_{2}^{T} & - \\\\\n",
        "& \\vdots & \\\\\n",
        "- & b_{p}^{T} & -\n",
        "\\end{array}\\right]=\\sum_{i=1}^{p} a^{i} b_{i}^{T} .\n",
        "$$"
      ]
    },
    {
      "cell_type": "markdown",
      "metadata": {
        "id": "XYjiidgT3mwW"
      },
      "source": [
        "Qué es p?"
      ]
    },
    {
      "cell_type": "markdown",
      "metadata": {
        "id": "xR65_3G44k8G"
      },
      "source": [
        "#### 9.2.1 Intentemos programarlo"
      ]
    },
    {
      "cell_type": "code",
      "execution_count": null,
      "metadata": {
        "colab": {
          "base_uri": "https://localhost:8080/"
        },
        "id": "kQAjgZVv4nTN",
        "outputId": "92cd8888-f2e7-40bb-a3d7-3d81b650391a"
      },
      "outputs": [
        {
          "data": {
            "text/plain": [
              "array([[ 1, -3, -2],\n",
              "       [ 3,  2, -5],\n",
              "       [-1,  4, -3]])"
            ]
          },
          "execution_count": 177,
          "metadata": {},
          "output_type": "execute_result"
        }
      ],
      "source": [
        "A"
      ]
    },
    {
      "cell_type": "code",
      "execution_count": null,
      "metadata": {
        "colab": {
          "base_uri": "https://localhost:8080/"
        },
        "id": "wsv5WUvxdz4b",
        "outputId": "0acfe3c8-0a10-4f00-ab1a-07b0d634685c"
      },
      "outputs": [
        {
          "data": {
            "text/plain": [
              "array([[-4,  0,  2],\n",
              "       [ 2, -5,  2],\n",
              "       [-2,  4, -5]])"
            ]
          },
          "execution_count": 178,
          "metadata": {},
          "output_type": "execute_result"
        }
      ],
      "source": [
        "B"
      ]
    },
    {
      "cell_type": "code",
      "execution_count": null,
      "metadata": {
        "colab": {
          "base_uri": "https://localhost:8080/"
        },
        "id": "CzLpNqUXd0vc",
        "outputId": "2530eca5-490d-4156-8c37-37bacbac63b5"
      },
      "outputs": [
        {
          "data": {
            "text/plain": [
              "array([[ -6,   7,   6],\n",
              "       [  2, -30,  35],\n",
              "       [ 18, -32,  21]])"
            ]
          },
          "execution_count": 179,
          "metadata": {},
          "output_type": "execute_result"
        }
      ],
      "source": [
        "A@B"
      ]
    },
    {
      "cell_type": "code",
      "execution_count": null,
      "metadata": {
        "colab": {
          "base_uri": "https://localhost:8080/"
        },
        "id": "u5EFlhDKd2EJ",
        "outputId": "3f31843a-257e-4bf3-cc8e-28c6a2f47082"
      },
      "outputs": [
        {
          "data": {
            "text/plain": [
              "array([[ -4,   0,   2],\n",
              "       [-12,   0,   6],\n",
              "       [  4,   0,  -2]])"
            ]
          },
          "execution_count": 180,
          "metadata": {},
          "output_type": "execute_result"
        }
      ],
      "source": [
        "np.outer(A[:, 0], B[0, :])"
      ]
    },
    {
      "cell_type": "code",
      "execution_count": null,
      "metadata": {
        "colab": {
          "base_uri": "https://localhost:8080/"
        },
        "id": "p3I7x0iceBM7",
        "outputId": "76e0a566-f82a-4eeb-c683-d2f8a00607d6"
      },
      "outputs": [
        {
          "data": {
            "text/plain": [
              "array([[ -6,  15,  -6],\n",
              "       [  4, -10,   4],\n",
              "       [  8, -20,   8]])"
            ]
          },
          "execution_count": 181,
          "metadata": {},
          "output_type": "execute_result"
        }
      ],
      "source": [
        "np.outer(A[:, 1], B[1, :])"
      ]
    },
    {
      "cell_type": "code",
      "execution_count": null,
      "metadata": {
        "colab": {
          "base_uri": "https://localhost:8080/"
        },
        "id": "ZE4Me4JEeBPX",
        "outputId": "8cb33ac6-c32e-4dad-ff3e-21880655ccdb"
      },
      "outputs": [
        {
          "data": {
            "text/plain": [
              "array([[  4,  -8,  10],\n",
              "       [ 10, -20,  25],\n",
              "       [  6, -12,  15]])"
            ]
          },
          "execution_count": 182,
          "metadata": {},
          "output_type": "execute_result"
        }
      ],
      "source": [
        "np.outer(A[:, 2], B[2, :])"
      ]
    },
    {
      "cell_type": "code",
      "execution_count": null,
      "metadata": {
        "colab": {
          "base_uri": "https://localhost:8080/"
        },
        "id": "oALueT01eJcM",
        "outputId": "b8d9ffd8-df2f-4937-da77-ecfc0e2b1177"
      },
      "outputs": [
        {
          "name": "stdout",
          "output_type": "stream",
          "text": [
            "[[ -4   0   2]\n",
            " [-12   0   6]\n",
            " [  4   0  -2]]\n",
            "[[ -6  15  -6]\n",
            " [  4 -10   4]\n",
            " [  8 -20   8]]\n",
            "[[  4  -8  10]\n",
            " [ 10 -20  25]\n",
            " [  6 -12  15]]\n"
          ]
        }
      ],
      "source": [
        "resultado = np.zeros((3, 3))\n",
        "for i in range(3):\n",
        "  print(np.outer(A[:, i], B[i, :]))\n",
        "  resultado = np.add(resultado, np.outer(A[:, i], B[i, :]))\n"
      ]
    },
    {
      "cell_type": "code",
      "execution_count": null,
      "metadata": {
        "colab": {
          "base_uri": "https://localhost:8080/"
        },
        "id": "403rMp7Kea-F",
        "outputId": "fce960cc-3865-4bda-db40-1a7d83f06a6b"
      },
      "outputs": [
        {
          "data": {
            "text/plain": [
              "array([[ -6.,   7.,   6.],\n",
              "       [  2., -30.,  35.],\n",
              "       [ 18., -32.,  21.]])"
            ]
          },
          "execution_count": 192,
          "metadata": {},
          "output_type": "execute_result"
        }
      ],
      "source": [
        "resultado"
      ]
    },
    {
      "cell_type": "markdown",
      "metadata": {
        "id": "QNAO4B5A4ioX"
      },
      "source": [
        "#### 9.2.2 Respuesta"
      ]
    },
    {
      "cell_type": "code",
      "execution_count": null,
      "metadata": {
        "colab": {
          "base_uri": "https://localhost:8080/"
        },
        "id": "gBeTf_Fc3Os-",
        "outputId": "d7836936-adbb-418b-a5ce-a4819f4f8762"
      },
      "outputs": [
        {
          "data": {
            "text/plain": [
              "array([[ -6,   7,   6],\n",
              "       [  2, -30,  35],\n",
              "       [ 18, -32,  21]])"
            ]
          },
          "execution_count": 193,
          "metadata": {},
          "output_type": "execute_result"
        }
      ],
      "source": [
        "np.sum([np.outer(A[:, i], B[i,:]) for i in range(A.shape[1])], axis=0)"
      ]
    },
    {
      "cell_type": "markdown",
      "metadata": {
        "id": "w-S4hjjKvmFw"
      },
      "source": [
        "### 9.3 Multiplicación Matriz-Matriz: A por columnas de B\n",
        "\n",
        "Como un conjunto de productos matriz-vector.\n",
        "\n",
        "\n",
        "$$\n",
        "C=A B=A\\left[\\begin{array}{cccc}\n",
        "\\mid & \\mid & & \\mid \\\\\n",
        "b^{1} & b^{2} & \\ldots & b^{n} \\\\\n",
        "\\mid & \\mid & & \\mid\n",
        "\\end{array}\\right]=\\left[\\begin{array}{cccc}\n",
        "\\mid & \\mid & & \\mid \\\\\n",
        "A b^{1} & A b^{2} & \\ldots & A b^{n} \\\\\n",
        "\\mid & \\mid & & \\mid\n",
        "\\end{array}\\right]\n",
        "$$\n",
        "\n",
        "Aquí la i-ésima columna de $C$ está dada por el producto matriz-vector con el vector de la derecha, $c_{i}=A b_{i}$. Estos productos matriz-vector pueden, a su vez, interpretarse utilizando ambos puntos de vista dados en la subsección anterior."
      ]
    },
    {
      "cell_type": "code",
      "execution_count": null,
      "metadata": {
        "id": "q2pQSswf4qnY"
      },
      "outputs": [],
      "source": [
        "# UStedes"
      ]
    },
    {
      "cell_type": "markdown",
      "metadata": {
        "id": "9Px2kFyfvo79"
      },
      "source": [
        "\n",
        "### 9.4 Multiplicación Matriz-Matriz: Vector-Matriz de filas de A\n",
        "\n",
        "Como un conjunto de productos vector-matriz de las filas de A.\n",
        "\n",
        "\n",
        "$$\n",
        "C=A B=\\left[\\begin{array}{ccc}\n",
        "- & a_{1}^{T} & - \\\\\n",
        "- & a_{2}^{T} & - \\\\\n",
        "& \\vdots & \\\\\n",
        "- & a_{m}^{T} & -\n",
        "\\end{array}\\right] B=\\left[\\begin{array}{ccc}\n",
        "- & a_{1}^{T} B & - \\\\\n",
        "- & a_{2}^{T} B & - \\\\\n",
        "& \\vdots & \\\\\n",
        "- & a_{m}^{T} B & -\n",
        "\\end{array}\\right]\n",
        "$$"
      ]
    },
    {
      "cell_type": "code",
      "execution_count": null,
      "metadata": {
        "id": "xJ7UKJfG4rwZ"
      },
      "outputs": [],
      "source": [
        "# Ustedes"
      ]
    },
    {
      "cell_type": "markdown",
      "metadata": {
        "id": "7O0exzvsZktX"
      },
      "source": [
        "\n",
        "\n",
        "### 9.5 Multiplicación Matriz-Matriz: propiedades\n",
        "\n",
        "1. Asociativa: $(A B) C=A(B C)$.\n",
        "1. Distributiva: $A(B+C)=A B+A C$.\n",
        "1. En general, no conmutativo; es decir, puede darse el caso de que $A B \\neq B A$. (Por ejemplo, si $A \\in \\mathbb{R}^{m \\times n}$ y $B \\in \\mathbb{R}^{n \\times q}$, el producto matricial $B A$ ni siquiera existe si $m$ y $q$ no son iguales!)\n",
        "\n"
      ]
    }
  ],
  "metadata": {
    "colab": {
      "provenance": [],
      "toc_visible": true
    },
    "kernelspec": {
      "display_name": "Python 3",
      "name": "python3"
    },
    "language_info": {
      "name": "python"
    }
  },
  "nbformat": 4,
  "nbformat_minor": 0
}